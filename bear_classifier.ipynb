{
 "cells": [
  {
   "cell_type": "code",
   "execution_count": 1,
   "metadata": {},
   "outputs": [],
   "source": [
    "from utils import *\n",
    "from fastai2.vision.all import *\n",
    "from fastai2.vision.widgets import *"
   ]
  },
  {
   "cell_type": "code",
   "execution_count": 2,
   "metadata": {},
   "outputs": [
    {
     "name": "stdout",
     "output_type": "stream",
     "text": [
      "Requirement already up-to-date: fastai2 in /anaconda2/envs/fastai2/lib/python3.7/site-packages (0.0.16)\n",
      "Requirement already satisfied, skipping upgrade: matplotlib in /anaconda2/envs/fastai2/lib/python3.7/site-packages (from fastai2) (3.1.3)\n",
      "Requirement already satisfied, skipping upgrade: pandas in /anaconda2/envs/fastai2/lib/python3.7/site-packages (from fastai2) (1.0.3)\n",
      "Requirement already satisfied, skipping upgrade: fastprogress>=0.1.22 in /anaconda2/envs/fastai2/lib/python3.7/site-packages (from fastai2) (0.2.2)\n",
      "Requirement already satisfied, skipping upgrade: scikit-learn in /anaconda2/envs/fastai2/lib/python3.7/site-packages (from fastai2) (0.22.1)\n",
      "Requirement already satisfied, skipping upgrade: torch>=1.3.0 in /anaconda2/envs/fastai2/lib/python3.7/site-packages (from fastai2) (1.4.0)\n",
      "Requirement already satisfied, skipping upgrade: requests in /anaconda2/envs/fastai2/lib/python3.7/site-packages (from fastai2) (2.23.0)\n",
      "Requirement already satisfied, skipping upgrade: pillow in /anaconda2/envs/fastai2/lib/python3.7/site-packages (from fastai2) (7.0.0)\n",
      "Requirement already satisfied, skipping upgrade: fastcore in /anaconda2/envs/fastai2/lib/python3.7/site-packages (from fastai2) (0.1.17)\n",
      "Requirement already satisfied, skipping upgrade: pyyaml in /anaconda2/envs/fastai2/lib/python3.7/site-packages (from fastai2) (5.3.1)\n",
      "Requirement already satisfied, skipping upgrade: torchvision>=0.5 in /anaconda2/envs/fastai2/lib/python3.7/site-packages (from fastai2) (0.5.0)\n",
      "Requirement already satisfied, skipping upgrade: spacy in /anaconda2/envs/fastai2/lib/python3.7/site-packages (from fastai2) (2.1.8)\n",
      "Requirement already satisfied, skipping upgrade: scipy in /anaconda2/envs/fastai2/lib/python3.7/site-packages (from fastai2) (1.4.1)\n",
      "Requirement already satisfied, skipping upgrade: cycler>=0.10 in /anaconda2/envs/fastai2/lib/python3.7/site-packages (from matplotlib->fastai2) (0.10.0)\n",
      "Requirement already satisfied, skipping upgrade: python-dateutil>=2.1 in /anaconda2/envs/fastai2/lib/python3.7/site-packages (from matplotlib->fastai2) (2.8.1)\n",
      "Requirement already satisfied, skipping upgrade: kiwisolver>=1.0.1 in /anaconda2/envs/fastai2/lib/python3.7/site-packages (from matplotlib->fastai2) (1.1.0)\n",
      "Requirement already satisfied, skipping upgrade: numpy>=1.11 in /anaconda2/envs/fastai2/lib/python3.7/site-packages (from matplotlib->fastai2) (1.18.1)\n",
      "Requirement already satisfied, skipping upgrade: pyparsing!=2.0.4,!=2.1.2,!=2.1.6,>=2.0.1 in /anaconda2/envs/fastai2/lib/python3.7/site-packages (from matplotlib->fastai2) (2.4.6)\n",
      "Requirement already satisfied, skipping upgrade: pytz>=2017.2 in /anaconda2/envs/fastai2/lib/python3.7/site-packages (from pandas->fastai2) (2019.3)\n",
      "Requirement already satisfied, skipping upgrade: joblib>=0.11 in /anaconda2/envs/fastai2/lib/python3.7/site-packages (from scikit-learn->fastai2) (0.14.1)\n",
      "Requirement already satisfied, skipping upgrade: urllib3!=1.25.0,!=1.25.1,<1.26,>=1.21.1 in /anaconda2/envs/fastai2/lib/python3.7/site-packages (from requests->fastai2) (1.25.8)\n",
      "Requirement already satisfied, skipping upgrade: idna<3,>=2.5 in /anaconda2/envs/fastai2/lib/python3.7/site-packages (from requests->fastai2) (2.9)\n",
      "Requirement already satisfied, skipping upgrade: chardet<4,>=3.0.2 in /anaconda2/envs/fastai2/lib/python3.7/site-packages (from requests->fastai2) (3.0.4)\n",
      "Requirement already satisfied, skipping upgrade: certifi>=2017.4.17 in /anaconda2/envs/fastai2/lib/python3.7/site-packages (from requests->fastai2) (2019.11.28)\n",
      "Requirement already satisfied, skipping upgrade: six in /anaconda2/envs/fastai2/lib/python3.7/site-packages (from torchvision>=0.5->fastai2) (1.14.0)\n",
      "Requirement already satisfied, skipping upgrade: murmurhash<1.1.0,>=0.28.0 in /anaconda2/envs/fastai2/lib/python3.7/site-packages (from spacy->fastai2) (1.0.2)\n",
      "Requirement already satisfied, skipping upgrade: plac<1.0.0,>=0.9.6 in /anaconda2/envs/fastai2/lib/python3.7/site-packages (from spacy->fastai2) (0.9.6)\n",
      "Requirement already satisfied, skipping upgrade: wasabi<1.1.0,>=0.2.0 in /anaconda2/envs/fastai2/lib/python3.7/site-packages (from spacy->fastai2) (0.2.2)\n",
      "Requirement already satisfied, skipping upgrade: thinc<7.1.0,>=7.0.8 in /anaconda2/envs/fastai2/lib/python3.7/site-packages (from spacy->fastai2) (7.0.8)\n",
      "Requirement already satisfied, skipping upgrade: cymem<2.1.0,>=2.0.2 in /anaconda2/envs/fastai2/lib/python3.7/site-packages (from spacy->fastai2) (2.0.2)\n",
      "Requirement already satisfied, skipping upgrade: blis<0.3.0,>=0.2.2 in /anaconda2/envs/fastai2/lib/python3.7/site-packages (from spacy->fastai2) (0.2.4)\n",
      "Requirement already satisfied, skipping upgrade: srsly<1.1.0,>=0.0.6 in /anaconda2/envs/fastai2/lib/python3.7/site-packages (from spacy->fastai2) (0.1.0)\n",
      "Requirement already satisfied, skipping upgrade: preshed<2.1.0,>=2.0.1 in /anaconda2/envs/fastai2/lib/python3.7/site-packages (from spacy->fastai2) (2.0.1)\n",
      "Requirement already satisfied, skipping upgrade: setuptools in /anaconda2/envs/fastai2/lib/python3.7/site-packages (from kiwisolver>=1.0.1->matplotlib->fastai2) (46.1.1.post20200323)\n",
      "Requirement already satisfied, skipping upgrade: tqdm<5.0.0,>=4.10.0 in /anaconda2/envs/fastai2/lib/python3.7/site-packages (from thinc<7.1.0,>=7.0.8->spacy->fastai2) (4.43.0)\n",
      "Requirement already up-to-date: fastcore in /anaconda2/envs/fastai2/lib/python3.7/site-packages (0.1.17)\n",
      "Requirement already satisfied, skipping upgrade: numpy in /anaconda2/envs/fastai2/lib/python3.7/site-packages (from fastcore) (1.18.1)\n"
     ]
    }
   ],
   "source": [
    "!pip install fastai2 --upgrade\n",
    "!pip install fastcore --upgrade"
   ]
  },
  {
   "cell_type": "code",
   "execution_count": 3,
   "metadata": {},
   "outputs": [],
   "source": [
    "path = Path()\n",
    "learn_inf = load_learner(path/'bear_classifier.pkl')"
   ]
  },
  {
   "cell_type": "code",
   "execution_count": 4,
   "metadata": {},
   "outputs": [],
   "source": [
    "btn_upload = widgets.FileUpload()\n",
    "out_pl = widgets.Output()\n",
    "lbl_pred = widgets.Label()\n",
    "btn_run = widgets.Button(description='Classify')"
   ]
  },
  {
   "cell_type": "code",
   "execution_count": 5,
   "metadata": {},
   "outputs": [],
   "source": [
    "def on_click_classify(change):\n",
    "    img = PILImage.create(btn_upload.data[-1])\n",
    "    out_pl.clear_output()\n",
    "    with out_pl: display(img.to_thumb(128,128))\n",
    "    pred,pred_idx,probs = learn_inf.predict(img)\n",
    "    lbl_pred.value = f'Prediction: {pred}; Probability: {probs[pred_idx]:0.04f}'"
   ]
  },
  {
   "cell_type": "code",
   "execution_count": 6,
   "metadata": {},
   "outputs": [],
   "source": [
    "btn_run.on_click(on_click_classify)"
   ]
  },
  {
   "cell_type": "code",
   "execution_count": 7,
   "metadata": {},
   "outputs": [
    {
     "data": {
      "application/vnd.jupyter.widget-view+json": {
       "model_id": "dd72a4aeb0a34d23982a9da5921dc9ef",
       "version_major": 2,
       "version_minor": 0
      },
      "text/plain": [
       "VBox(children=(Label(value='Select your bear!'), FileUpload(value={}, description='Upload'), Button(descriptio…"
      ]
     },
     "metadata": {},
     "output_type": "display_data"
    }
   ],
   "source": [
    "# Vertical Box\n",
    "VBox([widgets.Label('Select your bear!'),\n",
    "      btn_upload, btn_run, out_pl, lbl_pred])"
   ]
  }
 ],
 "metadata": {
  "kernelspec": {
   "display_name": "Python 3",
   "language": "python",
   "name": "python3"
  },
  "language_info": {
   "codemirror_mode": {
    "name": "ipython",
    "version": 3
   },
   "file_extension": ".py",
   "mimetype": "text/x-python",
   "name": "python",
   "nbconvert_exporter": "python",
   "pygments_lexer": "ipython3",
   "version": "3.7.7"
  }
 },
 "nbformat": 4,
 "nbformat_minor": 4
}
